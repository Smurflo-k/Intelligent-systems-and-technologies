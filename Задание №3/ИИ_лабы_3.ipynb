{
  "nbformat": 4,
  "nbformat_minor": 0,
  "metadata": {
    "colab": {
      "provenance": []
    },
    "kernelspec": {
      "name": "python3",
      "display_name": "Python 3"
    },
    "language_info": {
      "name": "python"
    }
  },
  "cells": [
    {
      "cell_type": "code",
      "execution_count": null,
      "metadata": {
        "colab": {
          "base_uri": "https://localhost:8080/",
          "height": 428
        },
        "id": "BvXZCAYPSmaj",
        "outputId": "297830c1-990f-4e36-e929-a86a337e8581"
      },
      "outputs": [
        {
          "output_type": "display_data",
          "data": {
            "text/plain": [
              "<Figure size 640x480 with 1 Axes>"
            ],
            "image/png": "[encoded data removed]"
          },
          "metadata": {}
        }
      ],
      "source": [
        "import matplotlib.colors as mcolors\n",
        "import matplotlib.pyplot as plt\n",
        "import numpy as np\n",
        "from matplotlib.animation import FuncAnimation, PillowWriter\n",
        "\n",
        "\n",
        "class Map:\n",
        "    def __init__(self, n):\n",
        "        self.n = n\n",
        "        self.map = self.initialize_grid()\n",
        "\n",
        "    def initialize_grid(self):\n",
        "        return np.random.choice(['B', 'R', 'E'], size=(self.n, self.n), p=[0.45, 0.45, 0.10])\n",
        "\n",
        "    def is_happy(self, x, y):\n",
        "        color = self.map[x, y]\n",
        "        if color == 'E':\n",
        "            return True\n",
        "\n",
        "        neighbors = [(i, j) for i in range(max(0, x - 1), min(self.n, x + 2))\n",
        "                     for j in range(max(0, y - 1), min(self.n, y + 2))\n",
        "                     if (i, j) != (x, y)]\n",
        "\n",
        "        same_color_count = sum(1 for i, j in neighbors if self.map[i, j] == color)\n",
        "\n",
        "        return same_color_count >= 2\n",
        "\n",
        "    def move_unhappy(self):\n",
        "        unhappy_cells = [(x, y) for x in range(self.n) for y in range(self.n) if not self.is_happy(x, y)]\n",
        "\n",
        "        if unhappy_cells:\n",
        "            x, y = unhappy_cells[np.random.choice(len(unhappy_cells))]\n",
        "\n",
        "            empty_cells = np.argwhere(self.map == 'E')\n",
        "            if empty_cells.size > 0:\n",
        "                new_x, new_y = empty_cells[np.random.choice(empty_cells.shape[0])]\n",
        "\n",
        "                self.map[new_x, new_y] = self.map[x, y]\n",
        "                self.map[x, y] = 'E'\n",
        "\n",
        "\n",
        "class Shelling:\n",
        "    def __init__(self, grid_size, steps):\n",
        "        self.map = Map(grid_size)\n",
        "        self.fig, self.ax = plt.subplots()\n",
        "        self.ani = FuncAnimation(self.fig, self.update, frames=steps, repeat=False)\n",
        "        self.colors = ['white', 'blue', 'red']\n",
        "        self.step_counter = 0\n",
        "        self.stopped = False  # Флаг для отслеживания остановки анимации\n",
        "\n",
        "    def update(self, frame):\n",
        "        if self.stopped:\n",
        "            return\n",
        "\n",
        "        previous_grid = self.map.map.copy()\n",
        "        self.map.move_unhappy()\n",
        "\n",
        "        self.ax.clear()\n",
        "\n",
        "        cmap = mcolors.ListedColormap(self.colors)\n",
        "        grid_numeric = np.where(self.map.map == 'B', 1, np.where(self.map.map == 'R', 2, 0))\n",
        "        self.ax.imshow(grid_numeric, cmap=cmap)\n",
        "\n",
        "        self.step_counter += 1\n",
        "        self.ax.set_title(f\"Шаг {self.step_counter}\")\n",
        "        self.ax.axis('off')\n",
        "\n",
        "        # Сохраняем изображение после первого шага\n",
        "        if self.step_counter == 1:\n",
        "            self.save_image(\"step_1.png\")\n",
        "\n",
        "        # Проверка на \"счастливость\" всех клеток\n",
        "        all_happy = all(self.map.is_happy(x, y) for x in range(self.map.n) for y in range(self.map.n))\n",
        "        if all_happy:\n",
        "            self.ani.event_source.stop()\n",
        "            self.stopped = True  # Устанавливаем флаг остановки\n",
        "\n",
        "    def save_image(self, filename):\n",
        "        self.fig.savefig(filename)\n",
        "\n",
        "    def run(self):\n",
        "        self.ani.save('sheltering_model.gif', writer=PillowWriter(fps=30))\n",
        "        plt.show()\n",
        "\n",
        "\n",
        "grid_size = 10\n",
        "steps = grid_size * 5\n",
        "\n",
        "sim = Shelling(grid_size, steps)\n",
        "sim.run()"
      ]
    }
  ]
}